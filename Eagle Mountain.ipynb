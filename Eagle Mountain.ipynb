{
 "cells": [
  {
   "cell_type": "code",
   "execution_count": 1,
   "metadata": {
    "collapsed": false
   },
   "outputs": [],
   "source": [
    "%matplotlib inline\n",
    "import pandas as pd\n",
    "import numpy as np\n",
    "import matplotlib.pyplot as plt"
   ]
  },
  {
   "cell_type": "code",
   "execution_count": 2,
   "metadata": {
    "collapsed": false
   },
   "outputs": [
    {
     "data": {
      "text/plain": [
       "incident_datetime        datetime64[ns]\n",
       "incident_type_primary            object\n",
       "city                             object\n",
       "latitude                        float64\n",
       "longitude                       float64\n",
       "parent_incident_type             object\n",
       "dtype: object"
      ]
     },
     "execution_count": 2,
     "metadata": {},
     "output_type": "execute_result"
    }
   ],
   "source": [
    "df = pd.read_csv('Utah_County_Sheriff_s_Office.csv', \n",
    "                 parse_dates=[\"incident_datetime\"],\n",
    "                 infer_datetime_format=True, usecols=[\"incident_type_primary\",\"city\",\"latitude\",\"longitude\",\"incident_datetime\",\"parent_incident_type\"])\n",
    "eagle = df[df['city']==\"EAGLE MOUNTAIN\"]\n",
    "eagle.dtypes"
   ]
  },
  {
   "cell_type": "code",
   "execution_count": 3,
   "metadata": {
    "collapsed": false
   },
   "outputs": [
    {
     "data": {
      "text/html": [
       "<div>\n",
       "<table border=\"1\" class=\"dataframe\">\n",
       "  <thead>\n",
       "    <tr style=\"text-align: right;\">\n",
       "      <th></th>\n",
       "      <th>incident_datetime</th>\n",
       "      <th>incident_type_primary</th>\n",
       "      <th>city</th>\n",
       "      <th>latitude</th>\n",
       "      <th>longitude</th>\n",
       "      <th>parent_incident_type</th>\n",
       "    </tr>\n",
       "  </thead>\n",
       "  <tbody>\n",
       "    <tr>\n",
       "      <th>12709</th>\n",
       "      <td>2008-03-29</td>\n",
       "      <td>Community Policing</td>\n",
       "      <td>EAGLE MOUNTAIN</td>\n",
       "      <td>40.30744</td>\n",
       "      <td>-112.00943</td>\n",
       "      <td>Proactive Policing</td>\n",
       "    </tr>\n",
       "    <tr>\n",
       "      <th>12710</th>\n",
       "      <td>2008-03-29</td>\n",
       "      <td>Community Policing</td>\n",
       "      <td>EAGLE MOUNTAIN</td>\n",
       "      <td>40.33309</td>\n",
       "      <td>-112.01421</td>\n",
       "      <td>Proactive Policing</td>\n",
       "    </tr>\n",
       "    <tr>\n",
       "      <th>12712</th>\n",
       "      <td>2008-03-29</td>\n",
       "      <td>Traffic</td>\n",
       "      <td>EAGLE MOUNTAIN</td>\n",
       "      <td>40.38468</td>\n",
       "      <td>-111.94985</td>\n",
       "      <td>Traffic</td>\n",
       "    </tr>\n",
       "    <tr>\n",
       "      <th>12713</th>\n",
       "      <td>2008-03-29</td>\n",
       "      <td>Community Policing</td>\n",
       "      <td>EAGLE MOUNTAIN</td>\n",
       "      <td>40.30543</td>\n",
       "      <td>-112.00576</td>\n",
       "      <td>Proactive Policing</td>\n",
       "    </tr>\n",
       "    <tr>\n",
       "      <th>12721</th>\n",
       "      <td>2008-03-29</td>\n",
       "      <td>Traffic</td>\n",
       "      <td>EAGLE MOUNTAIN</td>\n",
       "      <td>40.37757</td>\n",
       "      <td>-112.00396</td>\n",
       "      <td>Traffic</td>\n",
       "    </tr>\n",
       "  </tbody>\n",
       "</table>\n",
       "</div>"
      ],
      "text/plain": [
       "      incident_datetime incident_type_primary            city  latitude  \\\n",
       "12709        2008-03-29    Community Policing  EAGLE MOUNTAIN  40.30744   \n",
       "12710        2008-03-29    Community Policing  EAGLE MOUNTAIN  40.33309   \n",
       "12712        2008-03-29               Traffic  EAGLE MOUNTAIN  40.38468   \n",
       "12713        2008-03-29    Community Policing  EAGLE MOUNTAIN  40.30543   \n",
       "12721        2008-03-29               Traffic  EAGLE MOUNTAIN  40.37757   \n",
       "\n",
       "       longitude parent_incident_type  \n",
       "12709 -112.00943   Proactive Policing  \n",
       "12710 -112.01421   Proactive Policing  \n",
       "12712 -111.94985              Traffic  \n",
       "12713 -112.00576   Proactive Policing  \n",
       "12721 -112.00396              Traffic  "
      ]
     },
     "execution_count": 3,
     "metadata": {},
     "output_type": "execute_result"
    }
   ],
   "source": [
    "eagle.sort_values(\"incident_datetime\").head()"
   ]
  },
  {
   "cell_type": "code",
   "execution_count": 4,
   "metadata": {
    "collapsed": false
   },
   "outputs": [
    {
     "data": {
      "text/plain": [
       "Community Policing            5936\n",
       "Proactive Policing            3800\n",
       "Other                         2837\n",
       "Traffic                       2176\n",
       "Alarm                         1652\n",
       "Theft                         1480\n",
       "Family Offense                 902\n",
       "Assault                        547\n",
       "Property Crime                 380\n",
       "Drugs                          282\n",
       "Missing Person                 203\n",
       "Quality of Life                186\n",
       "Other Sexual Offense           177\n",
       "Breaking & Entering            165\n",
       "Disorder                       156\n",
       "Liquor                         131\n",
       "Property Crime Residential     127\n",
       "Sexual Offense                  52\n",
       "Weapons Offense                 22\n",
       "Sexual Assault                  15\n",
       "Assault with Deadly Weapon      13\n",
       "Death                           12\n",
       "Homicide                         1\n",
       "Name: parent_incident_type, dtype: int64"
      ]
     },
     "execution_count": 4,
     "metadata": {},
     "output_type": "execute_result"
    }
   ],
   "source": [
    "eagle.parent_incident_type.value_counts()"
   ]
  },
  {
   "cell_type": "markdown",
   "metadata": {},
   "source": [
    "## Property Crimes in Eagle Mountain"
   ]
  },
  {
   "cell_type": "code",
   "execution_count": 5,
   "metadata": {
    "collapsed": false
   },
   "outputs": [
    {
     "data": {
      "text/plain": [
       "<matplotlib.axes._subplots.AxesSubplot at 0x110ea3650>"
      ]
     },
     "execution_count": 5,
     "metadata": {},
     "output_type": "execute_result"
    },
    {
     "data": {
      "image/png": "[encoded data removed]",
      "text/plain": [
       "<matplotlib.figure.Figure at 0x119103510>"
      ]
     },
     "metadata": {},
     "output_type": "display_data"
    }
   ],
   "source": [
    "theft_times = eagle[eagle.parent_incident_type=='Property Crime'].incident_datetime.values\n",
    "thefts = pd.Series([1]*len(theft_times), index=theft_times)\n",
    "thefts_by_mo = thefts.resample('3M').sum()\n",
    "thefts_by_mo.plot()"
   ]
  },
  {
   "cell_type": "markdown",
   "metadata": {},
   "source": [
    "## Property Crime in Utah County Sheriff Data"
   ]
  },
  {
   "cell_type": "code",
   "execution_count": 6,
   "metadata": {
    "collapsed": false
   },
   "outputs": [
    {
     "data": {
      "text/plain": [
       "<matplotlib.axes._subplots.AxesSubplot at 0x110d3c0d0>"
      ]
     },
     "execution_count": 6,
     "metadata": {},
     "output_type": "execute_result"
    },
    {
     "data": {
      "image/png": "[encoded data removed]",
      "text/plain": [
       "<matplotlib.figure.Figure at 0x11910b1d0>"
      ]
     },
     "metadata": {},
     "output_type": "display_data"
    }
   ],
   "source": [
    "theft_times = df[df.parent_incident_type=='Property Crime'].incident_datetime.values\n",
    "thefts = pd.Series([1]*len(theft_times), index=theft_times)\n",
    "thefts_by_mo = thefts.resample('3M').sum()\n",
    "thefts_by_mo.plot()"
   ]
  },
  {
   "cell_type": "code",
   "execution_count": 7,
   "metadata": {
    "collapsed": false
   },
   "outputs": [
    {
     "data": {
      "text/plain": [
       "Community Policing                3800\n",
       "CITIZEN ASSIST                    2275\n",
       "ANIMAL PROBLEM                    1921\n",
       "ALARM                             1652\n",
       "Other                              840\n",
       "Alarm                              817\n",
       "Traffic                            586\n",
       "FAMILY PROBLEM-NO VIOLENCE         525\n",
       "TRAFFIC ACCIDENT-REPORTABLE        524\n",
       "Theft                              454\n",
       "TRAFFIC OFFENSE                    451\n",
       "SUSPICIOUS                         448\n",
       "CRIMINAL MISCHIEF                  443\n",
       "Assault                            417\n",
       "Family Offense                     367\n",
       "THEFT-PROPERTY-OTHER               346\n",
       "ANIMAL STRAY                       322\n",
       "AGENCY ASSIST                      243\n",
       "THEFT-PROPERTY-FROM MOTOR VEHI     224\n",
       "TRAFFIC ACCIDENT-NON REPORTABL     218\n",
       "FRAUD                              215\n",
       "DRIVING UNDER INFLUENCE            211\n",
       "MISSING PERSON                     203\n",
       "ANIMAL BITE                        157\n",
       "DISORDERLY CONDUCT                 156\n",
       "PROPERTY-FOUND                     154\n",
       "CS-POSS-MARIJUANA                  137\n",
       "DOMESTIC VIOLENCE WITH ARREST      129\n",
       "ANIMAL LIVESTOCK                   129\n",
       "PROPERTY DAMAGE-NON VANDALISM      127\n",
       "                                  ... \n",
       "THEFT-IDENTITY                       7\n",
       "ASSAULT-POLICE-SIMPLE                6\n",
       "OVERDOSE-CS                          5\n",
       "ATTEMPT TO LOCATE                    5\n",
       "PROTECTIVE ORDER                     5\n",
       "ASSAULT WITH OTHER WEAPON            4\n",
       "CS-POSS-COCAINE                      4\n",
       "DEAD BODY                            4\n",
       "STALKING                             4\n",
       "ANIMAL CRUELTY                       3\n",
       "FORGERY                              3\n",
       "PROPERTY-RECOVERED STOLEN            3\n",
       "SUICIDE                              3\n",
       "SEARCH WARRANT                       3\n",
       "PROPERTY-RECEIVED-POSS-STOLEN        3\n",
       "ADULT ABUSE OR NEGLECT               3\n",
       "CS-SALE-MANUF-OTHER                  2\n",
       "CS-POSS-HALLUCINOGEN                 2\n",
       "OBSTRUCTION-FALSE INFO               2\n",
       "Arson                                2\n",
       "CS-POSS-SYNTHETIC                    2\n",
       "OBSTRUCTION-RESISTING                2\n",
       "OBSTRUCTION-OTHER                    1\n",
       "COMMUNICATIONS OFFENSE               1\n",
       "SEX OFFENDER - NOT REGISTERED        1\n",
       "BURGLARY-NON-RES-ATT FORCED EN       1\n",
       "THEFT-PROPERTY-DECEPTION             1\n",
       "Homicide                             1\n",
       "AIRCRAFT PROBLEM                     1\n",
       "Sexual Assault                       1\n",
       "Name: incident_type_primary, dtype: int64"
      ]
     },
     "execution_count": 7,
     "metadata": {},
     "output_type": "execute_result"
    }
   ],
   "source": [
    "eagle.incident_type_primary.value_counts()"
   ]
  },
  {
   "cell_type": "code",
   "execution_count": 8,
   "metadata": {
    "collapsed": false
   },
   "outputs": [],
   "source": [
    "eagle[eagle.incident_type_primary == \"THEFT-PROPERTY-FROM MOTOR VEHI\"].to_csv(\"thefts_from_vehicles.csv\", index=False, columns=[\"incident_datetime\",\"latitude\",\"longitude\"])"
   ]
  },
  {
   "cell_type": "code",
   "execution_count": 9,
   "metadata": {
    "collapsed": false
   },
   "outputs": [
    {
     "data": {
      "text/plain": [
       "<matplotlib.axes._subplots.AxesSubplot at 0x118ec7450>"
      ]
     },
     "execution_count": 9,
     "metadata": {},
     "output_type": "execute_result"
    },
    {
     "data": {
      "image/png": "[encoded data removed]",
      "text/plain": [
       "<matplotlib.figure.Figure at 0x11983acd0>"
      ]
     },
     "metadata": {},
     "output_type": "display_data"
    }
   ],
   "source": [
    "theft_times = df[df.incident_type_primary==\"THEFT-PROPERTY-FROM MOTOR VEHI\"].incident_datetime.values\n",
    "thefts = pd.Series([1]*len(theft_times), index=theft_times)\n",
    "thefts_by_mo = thefts.resample('1M').sum()\n",
    "thefts_by_mo.plot()"
   ]
  },
  {
   "cell_type": "code",
   "execution_count": 19,
   "metadata": {
    "collapsed": false
   },
   "outputs": [],
   "source": [
    "from scipy import stats\n"
   ]
  },
  {
   "cell_type": "code",
   "execution_count": 64,
   "metadata": {
    "collapsed": false
   },
   "outputs": [
    {
     "data": {
      "image/png": "[encoded data removed]",
      "text/plain": [
       "<matplotlib.figure.Figure at 0x11fc1c9d0>"
      ]
     },
     "metadata": {},
     "output_type": "display_data"
    }
   ],
   "source": [
    "\n",
    "em_thefts = df[df.incident_type_primary==\"THEFT-PROPERTY-FROM MOTOR VEHI\"][['latitude', 'longitude']]\n",
    "et = em_thefts[(np.abs(stats.zscore(em_thefts)) < .12501).all(axis=1)]\n",
    "x = et.latitude.values\n",
    "y = et.longitude.values\n",
    "heatmap, xedges, yedges = np.histogram2d(y, x, bins=100)\n",
    "extent = [xedges[0], xedges[-1], yedges[0], yedges[-1]]\n",
    "\n",
    "plt.clf()\n",
    "plt.imshow(heatmap.T, extent=extent, origin='lower')\n",
    "plt.show()"
   ]
  },
  {
   "cell_type": "code",
   "execution_count": 77,
   "metadata": {
    "collapsed": false
   },
   "outputs": [
    {
     "data": {
      "text/plain": [
       "array([ 40.36444825])"
      ]
     },
     "execution_count": 77,
     "metadata": {},
     "output_type": "execute_result"
    }
   ],
   "source": [
    "i, j = np.unravel_index(heatmap.argmax(), heatmap.shape)\n",
    "yedges[j:j+1]\n",
    "#\"https://www.google.com/maps?daddr=%s,%s\" % (np.mean([yedges[j:j+1]]), np.mean([xedges[i:i+1]])"
   ]
  },
  {
   "cell_type": "code",
   "execution_count": null,
   "metadata": {
    "collapsed": false
   },
   "outputs": [],
   "source": [
    "\n"
   ]
  }
 ],
 "metadata": {
  "kernelspec": {
   "display_name": "Python 2",
   "language": "python",
   "name": "python2"
  },
  "language_info": {
   "codemirror_mode": {
    "name": "ipython",
    "version": 2
   },
   "file_extension": ".py",
   "mimetype": "text/x-python",
   "name": "python",
   "nbconvert_exporter": "python",
   "pygments_lexer": "ipython2",
   "version": "2.7.13"
  }
 },
 "nbformat": 4,
 "nbformat_minor": 2
}
